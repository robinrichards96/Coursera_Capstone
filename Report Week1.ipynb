{
 "cells": [
  {
   "cell_type": "markdown",
   "metadata": {},
   "source": [
    " # Coursera Capstone Project"
   ]
  },
  {
   "cell_type": "markdown",
   "metadata": {},
   "source": [
    "### Introduction and Business Problem"
   ]
  },
  {
   "cell_type": "markdown",
   "metadata": {},
   "source": [
    "This project will determine the best location for a new shopping centre in London using data from a variety of sources and machine learning techniques.\n",
    "\n",
    "Land prices in London are well known for being extremely high, the scarcity of land coupled with high demand means that building anywhere in the capital is expensive. It's therefore important that anyone wishing to develop commercially on land in London is adequately equipped with the right data and the right analysis.\n",
    "\n",
    "The aim of this project is to use data from the Foursquare API as well as population data scraped from online sources to determine where the most effective location to build a new shopping centre in London is."
   ]
  },
  {
   "cell_type": "markdown",
   "metadata": {},
   "source": [
    "### Target Audience"
   ]
  },
  {
   "cell_type": "markdown",
   "metadata": {},
   "source": [
    "The target audience for this project is property developers that might be looking to invest in a new shopping centre in London and don't have sufficient analytics to determine where the best location is. The Westfield shopping centre in Shepherds Bush cost £1.7 billion to construct, this shows the scale of the investments that companies are willing to put into these projects. It is therefore paramount that they have sufficient data and projections to base these investments on."
   ]
  },
  {
   "cell_type": "markdown",
   "metadata": {},
   "source": [
    "### Description of the Data"
   ]
  },
  {
   "cell_type": "markdown",
   "metadata": {},
   "source": [
    "To carry out this analysis, I will use the Foursquare API to generate a dataset of the existing locations of shopping centres across different London boroughs. I plan to use this data to determine which borough has the fewest number of shopping centres, using the assumption that developers don't want to build an area that's already saturated.\n",
    "\n",
    "Once I've determined this, I will then scrape data from 'https://www.citypopulation.de/en/uk/greaterlondon/' on the population of each London borough, this will allow me to calculate which boroughs have the largest population to the smallest number of shopping centres. This will form the basis for my recommendations."
   ]
  },
  {
   "cell_type": "code",
   "execution_count": null,
   "metadata": {},
   "outputs": [],
   "source": []
  }
 ],
 "metadata": {
  "kernelspec": {
   "display_name": "Python 3",
   "language": "python",
   "name": "python3"
  },
  "language_info": {
   "codemirror_mode": {
    "name": "ipython",
    "version": 3
   },
   "file_extension": ".py",
   "mimetype": "text/x-python",
   "name": "python",
   "nbconvert_exporter": "python",
   "pygments_lexer": "ipython3",
   "version": "3.7.4"
  }
 },
 "nbformat": 4,
 "nbformat_minor": 2
}
